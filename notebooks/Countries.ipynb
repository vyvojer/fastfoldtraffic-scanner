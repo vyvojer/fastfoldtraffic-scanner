{
 "cells": [
  {
   "cell_type": "code",
   "execution_count": 1,
   "metadata": {
    "collapsed": true
   },
   "outputs": [],
   "source": [
    "import sys"
   ]
  },
  {
   "cell_type": "code",
   "execution_count": 2,
   "metadata": {
    "collapsed": true
   },
   "outputs": [],
   "source": [
    "sys.path.append('..')"
   ]
  },
  {
   "cell_type": "code",
   "execution_count": 3,
   "metadata": {
    "collapsed": true
   },
   "outputs": [],
   "source": [
    "from scanner import ocr\n",
    "import csv\n",
    "from  collections import namedtuple"
   ]
  },
  {
   "cell_type": "code",
   "execution_count": 4,
   "metadata": {
    "collapsed": true
   },
   "outputs": [],
   "source": [
    "Country = namedtuple(\"Country\", ['name', 'iso'])"
   ]
  },
  {
   "cell_type": "code",
   "execution_count": 21,
   "metadata": {
    "collapsed": true
   },
   "outputs": [],
   "source": [
    "countries = []\n",
    "with open('country.csv', newline='') as csv_file:\n",
    "    csv_reader = csv.reader(csv_file, delimiter=',')\n",
    "    for row in csv_reader:\n",
    "        countries.append(Country(*row))"
   ]
  },
  {
   "cell_type": "code",
   "execution_count": 22,
   "metadata": {
    "collapsed": true
   },
   "outputs": [],
   "source": [
    "library = ocr.ImageLibrary('..\\\\scanner\\\\pokerstars_flags.dat')"
   ]
  },
  {
   "cell_type": "code",
   "execution_count": 23,
   "metadata": {},
   "outputs": [
    {
     "name": "stdout",
     "output_type": "stream",
     "text": [
      "None\n",
      "None\n",
      "None\n",
      "None\n",
      "None\n",
      "None\n",
      "None\n",
      "None\n",
      "None\n"
     ]
    }
   ],
   "source": [
    "r = None\n",
    "for record in library:\n",
    "    if record.text not in [country.name for country in countries]:\n",
    "        print(record.text)"
   ]
  },
  {
   "cell_type": "code",
   "execution_count": 28,
   "metadata": {},
   "outputs": [],
   "source": [
    "for record in library:\n",
    "    for country in countries:\n",
    "        if record.text == country.name:\n",
    "            record.text = country.iso"
   ]
  },
  {
   "cell_type": "code",
   "execution_count": 29,
   "metadata": {},
   "outputs": [
    {
     "name": "stdout",
     "output_type": "stream",
     "text": [
      "CA\n",
      "GR\n",
      "DK\n",
      "RU\n",
      "HU\n",
      "AT\n",
      "SE\n",
      "GB\n",
      "KZ\n",
      "NO\n",
      "PL\n",
      "CY\n",
      "CN\n",
      "NL\n",
      "LV\n",
      "EE\n",
      "LB\n",
      "CR\n",
      "NZ\n",
      "MX\n",
      "CL\n",
      "UA\n",
      "AR\n",
      "IE\n",
      "FI\n",
      "RO\n",
      "SK\n",
      "IS\n",
      "ME\n",
      "MD\n",
      "BE\n",
      "CZ\n",
      "UY\n",
      "MK\n",
      "ML\n",
      "ID\n",
      "BZ\n",
      "MT\n",
      "TH\n",
      "PH\n",
      "AM\n",
      "PE\n",
      "FO\n",
      "BM\n",
      "TT\n",
      "VE\n",
      "TW\n",
      "HR\n",
      "EC\n",
      "PY\n",
      "JP\n",
      "RS\n",
      "PA\n",
      "HN\n",
      "MO\n",
      "BO\n",
      "HK\n",
      "BA\n",
      "VN\n",
      "UZ\n",
      "SV\n",
      "LU\n",
      "MN\n",
      "MA\n",
      "JE\n",
      "GG\n",
      "KG\n",
      "AZ\n",
      "AN\n",
      "IN\n",
      "BR\n",
      "IM\n",
      "ZA\n",
      "AL\n",
      "MU\n",
      "NC\n",
      "UG\n",
      "JM\n",
      "DO\n",
      "MW\n",
      "GT\n",
      "TN\n",
      "GE\n",
      "CI\n",
      "DZ\n",
      "LK\n",
      "KY\n",
      "BF\n",
      "LT\n",
      "DE\n",
      "KR\n",
      "BY\n",
      "BG\n",
      "MG\n",
      "OM\n",
      "PF\n",
      "AW\n",
      "KH\n",
      "CW\n",
      "TM\n",
      "HT\n",
      "GI\n",
      "AD\n",
      "AO\n",
      "SX\n",
      "KN\n",
      "MV\n",
      "CM\n",
      "SC\n",
      "LI\n",
      "GY\n",
      "SM\n",
      "AX\n",
      "None\n",
      "None\n",
      "None\n",
      "ZM\n",
      "None\n",
      "None\n",
      "None\n",
      "TJ\n",
      "None\n",
      "None\n",
      "None\n",
      "CH\n"
     ]
    }
   ],
   "source": [
    "for record in library:\n",
    "    print(record.text)"
   ]
  },
  {
   "cell_type": "code",
   "execution_count": 30,
   "metadata": {
    "collapsed": true
   },
   "outputs": [],
   "source": [
    "library.save_library()"
   ]
  },
  {
   "cell_type": "code",
   "execution_count": null,
   "metadata": {
    "collapsed": true
   },
   "outputs": [],
   "source": []
  }
 ],
 "metadata": {
  "kernelspec": {
   "display_name": "Python 3",
   "language": "python",
   "name": "python3"
  },
  "language_info": {
   "codemirror_mode": {
    "name": "ipython",
    "version": 3
   },
   "file_extension": ".py",
   "mimetype": "text/x-python",
   "name": "python",
   "nbconvert_exporter": "python",
   "pygments_lexer": "ipython3",
   "version": "3.6.2"
  }
 },
 "nbformat": 4,
 "nbformat_minor": 1
}
